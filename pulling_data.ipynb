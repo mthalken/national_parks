{
 "cells": [
  {
   "cell_type": "code",
   "execution_count": 1,
   "id": "42512051",
   "metadata": {},
   "outputs": [],
   "source": [
    "# Dependencies\n",
    "from config import api_key"
   ]
  },
  {
   "cell_type": "code",
   "execution_count": 4,
   "id": "32a36231",
   "metadata": {},
   "outputs": [],
   "source": [
    "# set up api url on parks\n",
    "url = \"https://developer.nps.gov/api/v1/parks?parkCode=acad&api_key=\" + api_key"
   ]
  },
  {
   "cell_type": "code",
   "execution_count": null,
   "id": "511e0ed8",
   "metadata": {},
   "outputs": [],
   "source": []
  }
 ],
 "metadata": {
  "kernelspec": {
   "display_name": "mlenv",
   "language": "python",
   "name": "mlenv"
  },
  "language_info": {
   "codemirror_mode": {
    "name": "ipython",
    "version": 3
   },
   "file_extension": ".py",
   "mimetype": "text/x-python",
   "name": "python",
   "nbconvert_exporter": "python",
   "pygments_lexer": "ipython3",
   "version": "3.7.11"
  }
 },
 "nbformat": 4,
 "nbformat_minor": 5
}
